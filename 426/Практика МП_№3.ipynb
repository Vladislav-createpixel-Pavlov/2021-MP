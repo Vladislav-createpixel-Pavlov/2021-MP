{
 "cells": [
  {
   "cell_type": "markdown",
   "metadata": {},
   "source": [
    "Написать в функциональном стиле задачу приближенного вычисления корней функции\n",
    "$$e^{Ax}+x^B+log_Cx^3=0$$\n",
    "с точностью $\\epsilon=10^{-12}$\n",
    "\n",
    "методом половинного деления\n",
    "\n",
    "- $A$ - количество букв в фамилии\n",
    "- $B$ - число (дата) рождения\n",
    "- $C$ - {год рождения} + {месяц рожения}*3"
   ]
  },
  {
   "cell_type": "code",
   "execution_count": 18,
   "metadata": {},
   "outputs": [
    {
     "name": "stderr",
     "output_type": "stream",
     "text": [
      "<ipython-input-18-796245898592>:7: RuntimeWarning: divide by zero encountered in log\n",
      "  y = np.exp(6*x) + x**6 + (np.log(x**3)/np.log(2016))\n"
     ]
    },
    {
     "data": {
      "image/png": "[encoded data removed]",
      "text/plain": [
       "<Figure size 432x288 with 1 Axes>"
      ]
     },
     "metadata": {
      "needs_background": "light"
     },
     "output_type": "display_data"
    }
   ],
   "source": [
    "import numpy as np\n",
    "import matplotlib.pyplot as plt\n",
    "import math\n",
    "fig,ax=plt.subplots()\n",
    "x = np.linspace(0,10,50)\n",
    "\n",
    "y = np.exp(6*x) + x**6 + (np.log(x**3)/np.log(2016))\n",
    "ax=ax.plot(x,y)\n",
    "plt.show()"
   ]
  },
  {
   "cell_type": "code",
   "execution_count": 28,
   "metadata": {},
   "outputs": [
    {
     "name": "stdout",
     "output_type": "stream",
     "text": [
      "Корень уравнения 0.03992187500058207\n",
      "Значение уравнения в корне 0.0007550036977264085\n",
      "Количесво итераций,затраченное на поиск корня 36\n"
     ]
    },
    {
     "name": "stderr",
     "output_type": "stream",
     "text": [
      "<ipython-input-28-3111616a59d0>:8: RuntimeWarning: divide by zero encountered in log\n",
      "  return np.exp(6*x) + x**6 +(np.log(x**3)/np.log(2016))\n"
     ]
    }
   ],
   "source": [
    "import numpy as np\n",
    "import matplotlib.pyplot as plt\n",
    "import math\n",
    "b=0.04\n",
    "a=0\n",
    "c=0\n",
    "def f(x):\n",
    "    return np.exp(6*x) + x**6 +(np.log(x**3)/np.log(2016))\n",
    "eps=10**(-12)\n",
    "iter = 0\n",
    "while (b-a)>eps:\n",
    "    c=(a+b)/2\n",
    "    if f(b)*f(a)<0:\n",
    "        a=c\n",
    "    else:\n",
    "        b=c\n",
    "    iter+=1\n",
    "print(\"Корень уравнения\",c)\n",
    "print(\"Значение уравнения в корне\",f(c))\n",
    "print(\"Количесво итераций,затраченное на поиск корня\",iter)"
   ]
  },
  {
   "cell_type": "code",
   "execution_count": null,
   "metadata": {},
   "outputs": [],
   "source": []
  }
 ],
 "metadata": {
  "kernelspec": {
   "display_name": "Python 3",
   "language": "python",
   "name": "python3"
  },
  "language_info": {
   "codemirror_mode": {
    "name": "ipython",
    "version": 3
   },
   "file_extension": ".py",
   "mimetype": "text/x-python",
   "name": "python",
   "nbconvert_exporter": "python",
   "pygments_lexer": "ipython3",
   "version": "3.8.3"
  }
 },
 "nbformat": 4,
 "nbformat_minor": 4
}
